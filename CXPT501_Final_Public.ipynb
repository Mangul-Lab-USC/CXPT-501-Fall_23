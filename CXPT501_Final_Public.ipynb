{
  "nbformat": 4,
  "nbformat_minor": 0,
  "metadata": {
    "colab": {
      "provenance": []
    },
    "kernelspec": {
      "name": "python3",
      "display_name": "Python 3"
    },
    "language_info": {
      "name": "python"
    }
  },
  "cells": [
    {
      "cell_type": "markdown",
      "metadata": {
        "id": "IcoIVv8HuGEX"
      },
      "source": [
        "# **Description**"
      ]
    },
    {
      "cell_type": "markdown",
      "metadata": {
        "id": "S05dPxOjCs_R"
      },
      "source": [
        "\n",
        "For the CXPT501 final project, you will explore a large dataset that we simulated and modified based on a clinical trial (PIONEER-HF, ClinicalTrials.gov Identifier: NCT02554890).\n",
        "\n",
        "In this study, researchers compared the effects of sacubitril/valsartan versus enalapril in stabilized acute heart failure patients with reduced ejection fraction.\n",
        "\n"
      ]
    },
    {
      "cell_type": "markdown",
      "metadata": {
        "id": "x9316yqNw6Fp"
      },
      "source": [
        "##*Information included in the dataset*:\n",
        "\n",
        "*Demographics*\n",
        "*   Age\n",
        "*   Sex\n",
        "*   Race\n",
        "*   Ethnicity\n",
        "\n",
        "*Baseline characteristics*\n",
        "*   Height (cm)\n",
        "*   Weight (kg)\n",
        "*   Smoking history\n",
        "*   Pre-treatment NT-proBNP (pg/mL)\n",
        "*   Pre-treatment BNP (pg/mL)\n",
        "\n",
        "*Disease characteristics*\n",
        "*   Prior use of ACEi/ARB\n",
        "*   Left ventricular ejection fraction (%)\n",
        "*   Chronic renal insufficiency\n",
        "\n",
        "*Intervention*\n",
        "*   Sacubitril/valsartan\n",
        "*   Enalapril\n",
        "\n",
        "*Efficacy outcome*\n",
        "*   Week 4 NT-proBNP (pg/mL)\n",
        "*   Week 8 NT-proBNP (pg/mL)\n",
        "\n",
        "*Safety outcome*\n",
        "*   Symptomatic hypotension\n",
        "*   Hyperkalemia\n",
        "*   Angioedema\n",
        "*   Death"
      ]
    },
    {
      "cell_type": "markdown",
      "metadata": {
        "id": "JBfSnliC_k45"
      },
      "source": [
        "# **Instructions**"
      ]
    },
    {
      "cell_type": "markdown",
      "metadata": {
        "id": "BIw0TOeiHccG"
      },
      "source": [
        "## **Data import (6 points)**"
      ]
    },
    {
      "cell_type": "markdown",
      "metadata": {
        "id": "AJqJ5f43A3ki"
      },
      "source": [
        "**Import the Python libraries you decide to use here, e.g. Pandas (2 points)**"
      ]
    },
    {
      "cell_type": "code",
      "metadata": {
        "id": "ar4K7vM2BDWF"
      },
      "source": [],
      "execution_count": null,
      "outputs": []
    },
    {
      "cell_type": "markdown",
      "metadata": {
        "id": "T3ZqfIfUAMXN"
      },
      "source": [
        "**Download/load your individual dataset (.csv file) (2 points)**"
      ]
    },
    {
      "cell_type": "markdown",
      "metadata": {
        "id": "kvVbp7AJ_8Y3"
      },
      "source": [
        "We have prepared a dataset for each of you, labeled by name. Please download or directly import your corresponding data file from https://github.com/Mangul-Lab-USC/CXPT-501-Fall_23. Each dataset contains data for 1 million patients, one per row.\n",
        "\n",
        "For directly importing your file from GitHub to your Colab notebook, click on your assigned file then right-click the Download button. From there, a drop-down menu like below should appear. Select the option that copies the direct link address to your clipboard, then paste it into your notebook."
      ]
    },
    {
      "cell_type": "markdown",
      "metadata": {
        "id": "5nVhVllOeqgj"
      },
      "source": [
        "![image.png](data:image/png;base64,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)"
      ]
    },
    {
      "cell_type": "markdown",
      "metadata": {
        "id": "_bZI0krJgrcK"
      },
      "source": [
        "**The drop-down menu shown in Google Chrome.** If you use this web browser, click \"Copy link address\"."
      ]
    },
    {
      "cell_type": "code",
      "metadata": {
        "id": "mOfvMxUaBLZn"
      },
      "source": [],
      "execution_count": null,
      "outputs": []
    },
    {
      "cell_type": "markdown",
      "metadata": {
        "id": "PWdtG9tqBa3Z"
      },
      "source": [
        "**Display the dataset (2 points)**"
      ]
    },
    {
      "cell_type": "code",
      "metadata": {
        "id": "kvGU7Po1BkOz"
      },
      "source": [],
      "execution_count": null,
      "outputs": []
    },
    {
      "cell_type": "markdown",
      "metadata": {
        "id": "uS928MkWDNZ0"
      },
      "source": [
        "## **Data cleaning (16 points)**\n"
      ]
    },
    {
      "cell_type": "markdown",
      "metadata": {
        "id": "JjdxNPVnJIo_"
      },
      "source": [
        "**Please remove all rows that have any NaN value in them (2 points)**\n",
        "\n",
        "You can confirm that you've done this properly by using:\n",
        "```\n",
        "DataFrame.isnull().sum()\n",
        "```"
      ]
    },
    {
      "cell_type": "code",
      "metadata": {
        "id": "qfMqsW7cJMmm"
      },
      "source": [],
      "execution_count": null,
      "outputs": []
    },
    {
      "cell_type": "markdown",
      "metadata": {
        "id": "FBrVELpiHtFn"
      },
      "source": [
        "**Based on the study's inclusion criteria, please filter out patients who don't meet the following criteria. Store the remaining patient data in a new DataFrame. (8 points)**\n",
        "\n",
        "*Inclusion criteria*\n",
        "*   age >= 18\n",
        "*   pre-treatment NT-proBNP >= 1600 pg/mL\n",
        "*   pre-treatment BNP >= 400 pg/mL\n",
        "*   left ventricular ejection fraction <= 40%\n",
        "\n",
        "You can confirm how many patient entries remain by using:\n",
        "```\n",
        "len(DataFrame)\n",
        "```\n",
        "\n"
      ]
    },
    {
      "cell_type": "code",
      "metadata": {
        "id": "ZL5EIue6IHOb"
      },
      "source": [],
      "execution_count": null,
      "outputs": []
    },
    {
      "cell_type": "markdown",
      "metadata": {
        "id": "NO8_q9lNL_04"
      },
      "source": [
        "**Add a \"BMI (kg/m^2)\" column to the dataframe by calculating body mass index based on weight and height provided** `BMI = weight(kg)/(height(m)**2)` **where** '`**`' **is  the exponent operator in Python. Be wary of units. (6 points)**"
      ]
    },
    {
      "cell_type": "code",
      "metadata": {
        "id": "Fwc9w-HgMekR"
      },
      "source": [],
      "execution_count": null,
      "outputs": []
    },
    {
      "cell_type": "markdown",
      "metadata": {
        "id": "7kMDdPD5IoKR"
      },
      "source": [
        "## **Data visualization (64 points)**"
      ]
    },
    {
      "cell_type": "markdown",
      "metadata": {
        "id": "BDfsyvMRNzp_"
      },
      "source": [
        "###**Explore the baseline characteristics among sacubitril/valsartan and enalapril groups (14 points)**"
      ]
    },
    {
      "cell_type": "markdown",
      "metadata": {
        "id": "0fPrgsQGyuHo"
      },
      "source": [
        "**Categorical Data**\n",
        "*   Based on your judgement, use one or more of the most appropriate plot types to visualize some aspect of the categorical data. Intervention type must be distinguished by hue.\n",
        "*   Make the following aesthetic changes to your plot as you see fit to make the visualization better:\n",
        "\n",
        "    ・Use one of Seaborn's Plot-Styles\n",
        "\n",
        "    ・Use one of Seaborn's Plot-Contexts\n",
        "\n",
        "    ・Despine your plot\n",
        "* Save the plot you make in vector form (.pdf). Use `bbox_inches='tight'` when you do this.\n",
        "\n"
      ]
    },
    {
      "cell_type": "code",
      "metadata": {
        "id": "j4vEfXA6LsWH"
      },
      "source": [],
      "execution_count": null,
      "outputs": []
    },
    {
      "cell_type": "markdown",
      "metadata": {
        "id": "lwyTb4n_Lnq7"
      },
      "source": [
        "###**Explore the efficacy of sacubitril/valsartan and enalapril at 4 weeks and 8 weeks (36 points)**\n",
        "**Relational Data**\n",
        "*   Follow the steps below to visualize NT-proBNP concentrations over time with a relational-type plot.\n",
        "*   Make the following aesthetic changes to your plot as you see fit to make the visualization better:\n",
        "\n",
        "    ・Use one of Seaborn's Plot-Styles\n",
        "\n",
        "    ・Use one of Seaborn's Plot-Contexts\n",
        "\n",
        "    ・Despine your plot\n",
        "* Save the plot you make in vector form (.pdf). Use `bbox_inches='tight'` when you do this."
      ]
    },
    {
      "cell_type": "markdown",
      "metadata": {
        "id": "d1v1CtjSggZk"
      },
      "source": [
        "1) Subset the cleaned and filtered DataFrame into three smaller DataFrames containing the following columns (8 points):\n",
        "*   Pre-treatment NT-proBNP & Intervention Group\n",
        "*   Week 4 NT-proBNP & Intervention Group\n",
        "*   Week 8 NT-proBNP & Intervention Group\n",
        "\n",
        "\n"
      ]
    },
    {
      "cell_type": "code",
      "metadata": {
        "id": "BREbyltE8m6G"
      },
      "source": [],
      "execution_count": null,
      "outputs": []
    },
    {
      "cell_type": "markdown",
      "metadata": {
        "id": "0yIb6XnGhIhZ"
      },
      "source": [
        "2) Add a column to each of the three new DataFrames specifying each DataFrame's timepoint. The name of the column should be the same for each DataFrame (6 points)."
      ]
    },
    {
      "cell_type": "code",
      "metadata": {
        "id": "bxkLXFQYvur8"
      },
      "source": [],
      "execution_count": null,
      "outputs": []
    },
    {
      "cell_type": "markdown",
      "metadata": {
        "id": "kuYEQzw1h_GO"
      },
      "source": [
        "3) Merge all three of the new DataFrames via the most appropriate method. (6 points)"
      ]
    },
    {
      "cell_type": "code",
      "metadata": {
        "id": "gryl1-YqvaW_"
      },
      "source": [],
      "execution_count": null,
      "outputs": []
    },
    {
      "cell_type": "markdown",
      "metadata": {
        "id": "y9aqLUbSiMkw"
      },
      "source": [
        "4 ) Fill in any NaNs in the merged DataFrame with the integer value 0. (2 points)"
      ]
    },
    {
      "cell_type": "code",
      "metadata": {
        "id": "uvSAyMbY4csN"
      },
      "source": [],
      "execution_count": null,
      "outputs": []
    },
    {
      "cell_type": "markdown",
      "metadata": {
        "id": "tu0rGpjLiW1R"
      },
      "source": [
        "5) Combine all the columns containing NT-proBNP concentration data into a new, single column. (6 points)"
      ]
    },
    {
      "cell_type": "code",
      "metadata": {
        "id": "rlsozcr036kn"
      },
      "source": [],
      "execution_count": null,
      "outputs": []
    },
    {
      "cell_type": "markdown",
      "metadata": {
        "id": "BwKeADDZi1ZH"
      },
      "source": [
        "6) Use a line plot to graph NT-proBNP concentration over time, with Intervention Group seperated by hue. (8 points)\n",
        "\n",
        "The arguements you pass to lineplot() should include:\n",
        "*   `ci='sd'`\n",
        "*   `err_style='bars'`\n",
        "*   `marker=\"o\"`\n",
        "\n"
      ]
    },
    {
      "cell_type": "code",
      "metadata": {
        "id": "_c1umHSc408N"
      },
      "source": [],
      "execution_count": null,
      "outputs": []
    },
    {
      "cell_type": "markdown",
      "metadata": {
        "id": "asSOiTWOmcbJ"
      },
      "source": [
        "###**Explore the efficacy of sacubitril/valsartan and enalapril for a  demographic (8 points)**"
      ]
    },
    {
      "cell_type": "markdown",
      "metadata": {
        "id": "FPri4TVVy2te"
      },
      "source": [
        "**Matrix Data**\n",
        "*   Follow the steps below to produce a heatmap to visualize NT-proBNP concentration at Week 8 for some demographic of your choice. Intervention type must be an axis of the matrix data.\n",
        "*   Make the following aesthetic changes to your plot as you see fit to make the visualization better:\n",
        "\n",
        "    ・Use one of Seaborn's Plot-Contexts\n",
        "\n",
        "* Save the plot you make in vector form (.pdf). Use `bbox_inches='tight'` when you do this."
      ]
    },
    {
      "cell_type": "markdown",
      "metadata": {
        "id": "YtOidkpurXPv"
      },
      "source": [
        "1) Convert your categorical data into matrix data. (4 points)"
      ]
    },
    {
      "cell_type": "code",
      "metadata": {
        "id": "5klrvuVJj16o"
      },
      "source": [],
      "execution_count": null,
      "outputs": []
    },
    {
      "cell_type": "markdown",
      "metadata": {
        "id": "n_DEyOM7remz"
      },
      "source": [
        "2) Plot a heatmap from your matrix data. It is okay if it does not look very complex. (4 points)"
      ]
    },
    {
      "cell_type": "code",
      "metadata": {
        "id": "hWbkE3jRm5Bs"
      },
      "source": [],
      "execution_count": null,
      "outputs": []
    },
    {
      "cell_type": "markdown",
      "metadata": {
        "id": "Qk92pq5xyYoL"
      },
      "source": [
        "## **Statistical analysis (20 points)**"
      ]
    },
    {
      "cell_type": "markdown",
      "metadata": {
        "id": "4bsxYhspp03z"
      },
      "source": [
        "**Explore the safety of sacubitril/valsartan and enalapril in this stabilized acute heart failure patient population**"
      ]
    },
    {
      "cell_type": "markdown",
      "metadata": {
        "id": "XLzT0wyUy8fm"
      },
      "source": [
        "Please provide the following statistical measures for various characteristics, including BMI, and group the results by the intervention type (sacubitril/valsartan and enalapril):\n",
        "\n",
        "**For Sacubitril/Valsartan Intervention:**\n",
        "\n",
        "Mean and standard deviation (std) for each characteristic, including BMI.\n",
        "Median for each characteristic, including BMI.\n",
        "\n",
        "**For Enalapril Intervention:**\n",
        "\n",
        "Mean and standard deviation (std) for each characteristic, including BMI.\n",
        "Median for each characteristic, including BMI.  (4 points)"
      ]
    },
    {
      "cell_type": "code",
      "metadata": {
        "id": "_pqylM3i1Oj3"
      },
      "source": [],
      "execution_count": null,
      "outputs": []
    },
    {
      "cell_type": "markdown",
      "metadata": {
        "id": "PhCn6ekb1Dzj"
      },
      "source": [
        "What statistical test should be employed to analyze the effectiveness of the new heart failure medication formulations developed by two pharmaceutical companies, sacubitril and enalapril, with respect to their claims of reducing NT-proBNP levels? The claims state that sacubitril reduces NT-proBNP levels by an average of 3000 within 4 weeks and 2000 within 8 weeks, while enalapril reduces NT-proBNP levels by an average of 2500 within 4 weeks and 1500 within 8 weeks. A clinical trial was conducted using samples from both companies, and the objective is to determine which formulation is more effective.\n",
        "\n",
        "Clearly state your hypotheses for the combinations of analyses and do the significance test accordingly:\n",
        "\n",
        "1. For the sacubitril group, is there a significant difference between pre-treatment and Week 4 NT-proBNP levels? (2 Points)\n",
        "\n",
        "2. For the sacubitril group, is there a significant difference between pre-treatment and Week 8 NT-proBNP levels? (2 Points)\n",
        "\n",
        "3. For the enalapril group, is there a significant difference between pre-treatment and Week 4 NT-proBNP levels? (2 Points)\n",
        "\n",
        "4. For the enalapril group, is there a significant difference between pre-treatment and Week 8 NT-proBNP levels? (2 Points)\n",
        "\n",
        "5. Is there a significant difference in NT-proBNP levels at Week 4 between the two groups (sacubitril and enalapril)? (2 Points)\n",
        "\n",
        "6. Is there a significant difference in NT-proBNP levels at Week 8 between the two groups (sacubitril and enalapril)? (2 Points)\n",
        "\n",
        "7. Among participants aged 60 or older, is there a significant difference in NT-proBNP levels at Week 4 between the two groups (sacubitril and enalapril)? (2 Points)\n",
        "\n",
        "8. Among participants aged 60 or older, is there a significant difference in NT-proBNP levels at Week 8 between the two groups (sacubitril and enalapril)? (2 Points)\n",
        "   "
      ]
    },
    {
      "cell_type": "code",
      "metadata": {
        "id": "JEtBwdH08trc"
      },
      "source": [],
      "execution_count": null,
      "outputs": []
    },
    {
      "cell_type": "markdown",
      "metadata": {
        "id": "8XiaHvdQ_Kl4"
      },
      "source": [
        "Is there a statistically significant difference between the pre-treatment NT-proBNP and week 4 NT-proBNP, and between baseline and week 8 NT-proBNP in sacubitril/valsartan and enalapril groups? (2 points)"
      ]
    },
    {
      "cell_type": "markdown",
      "metadata": {
        "id": "cMkQaaC5_gPD"
      },
      "source": [
        "_**[ Write your answer here ]**_"
      ]
    }
  ]
}